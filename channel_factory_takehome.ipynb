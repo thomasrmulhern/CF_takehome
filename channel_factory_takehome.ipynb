{
 "cells": [
  {
   "cell_type": "markdown",
   "metadata": {},
   "source": [
    "# Import"
   ]
  },
  {
   "cell_type": "code",
   "execution_count": 1,
   "metadata": {
    "scrolled": true
   },
   "outputs": [
    {
     "data": {
      "text/html": [
       "<div>\n",
       "<style scoped>\n",
       "    .dataframe tbody tr th:only-of-type {\n",
       "        vertical-align: middle;\n",
       "    }\n",
       "\n",
       "    .dataframe tbody tr th {\n",
       "        vertical-align: top;\n",
       "    }\n",
       "\n",
       "    .dataframe thead th {\n",
       "        text-align: right;\n",
       "    }\n",
       "</style>\n",
       "<table border=\"1\" class=\"dataframe\">\n",
       "  <thead>\n",
       "    <tr style=\"text-align: right;\">\n",
       "      <th></th>\n",
       "      <th>Day</th>\n",
       "      <th>Campaign</th>\n",
       "      <th>Ad group</th>\n",
       "      <th>Ad group type</th>\n",
       "      <th>Ad group bid strategy type</th>\n",
       "      <th>Cost</th>\n",
       "      <th>Views</th>\n",
       "      <th>Impr.</th>\n",
       "      <th>Clicks</th>\n",
       "    </tr>\n",
       "  </thead>\n",
       "  <tbody>\n",
       "    <tr>\n",
       "      <td>0</td>\n",
       "      <td>2022-05-31</td>\n",
       "      <td>Alvin test on EOS video</td>\n",
       "      <td>Targeting used for nordic test 20190130</td>\n",
       "      <td>In-stream</td>\n",
       "      <td>Manual CPV</td>\n",
       "      <td>4.76</td>\n",
       "      <td>71.0</td>\n",
       "      <td>207.0</td>\n",
       "      <td>1.0</td>\n",
       "    </tr>\n",
       "    <tr>\n",
       "      <td>1</td>\n",
       "      <td>2022-06-07</td>\n",
       "      <td>Alvin test on EOS video</td>\n",
       "      <td>Targeting used for nordic test 20190130</td>\n",
       "      <td>In-stream</td>\n",
       "      <td>Manual CPV</td>\n",
       "      <td>6.40</td>\n",
       "      <td>45.0</td>\n",
       "      <td>225.0</td>\n",
       "      <td>1.0</td>\n",
       "    </tr>\n",
       "    <tr>\n",
       "      <td>2</td>\n",
       "      <td>2022-06-20</td>\n",
       "      <td>Alvin test on EOS video</td>\n",
       "      <td>Targeting used for nordic test 20190130</td>\n",
       "      <td>In-stream</td>\n",
       "      <td>Manual CPV</td>\n",
       "      <td>5.21</td>\n",
       "      <td>78.0</td>\n",
       "      <td>299.0</td>\n",
       "      <td>1.0</td>\n",
       "    </tr>\n",
       "    <tr>\n",
       "      <td>3</td>\n",
       "      <td>2022-06-29</td>\n",
       "      <td>Alvin test on EOS video</td>\n",
       "      <td>Targeting used for nordic test 20190130</td>\n",
       "      <td>In-stream</td>\n",
       "      <td>Manual CPV</td>\n",
       "      <td>4.74</td>\n",
       "      <td>90.0</td>\n",
       "      <td>283.0</td>\n",
       "      <td>0.0</td>\n",
       "    </tr>\n",
       "    <tr>\n",
       "      <td>4</td>\n",
       "      <td>2022-06-13</td>\n",
       "      <td>Alvin test on EOS video</td>\n",
       "      <td>Targeting used for nordic test 20190130</td>\n",
       "      <td>In-stream</td>\n",
       "      <td>Manual CPV</td>\n",
       "      <td>5.22</td>\n",
       "      <td>72.0</td>\n",
       "      <td>249.0</td>\n",
       "      <td>1.0</td>\n",
       "    </tr>\n",
       "    <tr>\n",
       "      <td>5</td>\n",
       "      <td>2022-06-14</td>\n",
       "      <td>Alvin test on EOS video</td>\n",
       "      <td>Targeting used for nordic test 20190130</td>\n",
       "      <td>In-stream</td>\n",
       "      <td>Manual CPV</td>\n",
       "      <td>5.10</td>\n",
       "      <td>57.0</td>\n",
       "      <td>216.0</td>\n",
       "      <td>1.0</td>\n",
       "    </tr>\n",
       "    <tr>\n",
       "      <td>6</td>\n",
       "      <td>2022-06-18</td>\n",
       "      <td>Alvin test on EOS video</td>\n",
       "      <td>Targeting used for nordic test 20190130</td>\n",
       "      <td>In-stream</td>\n",
       "      <td>Manual CPV</td>\n",
       "      <td>4.94</td>\n",
       "      <td>42.0</td>\n",
       "      <td>120.0</td>\n",
       "      <td>0.0</td>\n",
       "    </tr>\n",
       "    <tr>\n",
       "      <td>7</td>\n",
       "      <td>2022-06-27</td>\n",
       "      <td>Alvin test on EOS video</td>\n",
       "      <td>Targeting used for nordic test 20190130</td>\n",
       "      <td>In-stream</td>\n",
       "      <td>Manual CPV</td>\n",
       "      <td>4.79</td>\n",
       "      <td>88.0</td>\n",
       "      <td>310.0</td>\n",
       "      <td>0.0</td>\n",
       "    </tr>\n",
       "    <tr>\n",
       "      <td>8</td>\n",
       "      <td>2022-06-12</td>\n",
       "      <td>Alvin test on EOS video</td>\n",
       "      <td>Targeting used for nordic test 20190130</td>\n",
       "      <td>In-stream</td>\n",
       "      <td>Manual CPV</td>\n",
       "      <td>4.96</td>\n",
       "      <td>72.0</td>\n",
       "      <td>258.0</td>\n",
       "      <td>1.0</td>\n",
       "    </tr>\n",
       "    <tr>\n",
       "      <td>9</td>\n",
       "      <td>2022-06-03</td>\n",
       "      <td>Alvin test on EOS video</td>\n",
       "      <td>Targeting used for nordic test 20190130</td>\n",
       "      <td>In-stream</td>\n",
       "      <td>Manual CPV</td>\n",
       "      <td>5.07</td>\n",
       "      <td>75.0</td>\n",
       "      <td>227.0</td>\n",
       "      <td>0.0</td>\n",
       "    </tr>\n",
       "    <tr>\n",
       "      <td>10</td>\n",
       "      <td>2022-06-02</td>\n",
       "      <td>Alvin test on EOS video</td>\n",
       "      <td>Targeting used for nordic test 20190130</td>\n",
       "      <td>In-stream</td>\n",
       "      <td>Manual CPV</td>\n",
       "      <td>5.01</td>\n",
       "      <td>96.0</td>\n",
       "      <td>283.0</td>\n",
       "      <td>0.0</td>\n",
       "    </tr>\n",
       "  </tbody>\n",
       "</table>\n",
       "</div>"
      ],
      "text/plain": [
       "           Day                 Campaign  \\\n",
       "0   2022-05-31  Alvin test on EOS video   \n",
       "1   2022-06-07  Alvin test on EOS video   \n",
       "2   2022-06-20  Alvin test on EOS video   \n",
       "3   2022-06-29  Alvin test on EOS video   \n",
       "4   2022-06-13  Alvin test on EOS video   \n",
       "5   2022-06-14  Alvin test on EOS video   \n",
       "6   2022-06-18  Alvin test on EOS video   \n",
       "7   2022-06-27  Alvin test on EOS video   \n",
       "8   2022-06-12  Alvin test on EOS video   \n",
       "9   2022-06-03  Alvin test on EOS video   \n",
       "10  2022-06-02  Alvin test on EOS video   \n",
       "\n",
       "                                   Ad group Ad group type  \\\n",
       "0   Targeting used for nordic test 20190130     In-stream   \n",
       "1   Targeting used for nordic test 20190130     In-stream   \n",
       "2   Targeting used for nordic test 20190130     In-stream   \n",
       "3   Targeting used for nordic test 20190130     In-stream   \n",
       "4   Targeting used for nordic test 20190130     In-stream   \n",
       "5   Targeting used for nordic test 20190130     In-stream   \n",
       "6   Targeting used for nordic test 20190130     In-stream   \n",
       "7   Targeting used for nordic test 20190130     In-stream   \n",
       "8   Targeting used for nordic test 20190130     In-stream   \n",
       "9   Targeting used for nordic test 20190130     In-stream   \n",
       "10  Targeting used for nordic test 20190130     In-stream   \n",
       "\n",
       "   Ad group bid strategy type  Cost  Views  Impr.  Clicks  \n",
       "0                  Manual CPV  4.76   71.0  207.0     1.0  \n",
       "1                  Manual CPV  6.40   45.0  225.0     1.0  \n",
       "2                  Manual CPV  5.21   78.0  299.0     1.0  \n",
       "3                  Manual CPV  4.74   90.0  283.0     0.0  \n",
       "4                  Manual CPV  5.22   72.0  249.0     1.0  \n",
       "5                  Manual CPV  5.10   57.0  216.0     1.0  \n",
       "6                  Manual CPV  4.94   42.0  120.0     0.0  \n",
       "7                  Manual CPV  4.79   88.0  310.0     0.0  \n",
       "8                  Manual CPV  4.96   72.0  258.0     1.0  \n",
       "9                  Manual CPV  5.07   75.0  227.0     0.0  \n",
       "10                 Manual CPV  5.01   96.0  283.0     0.0  "
      ]
     },
     "execution_count": 1,
     "metadata": {},
     "output_type": "execute_result"
    }
   ],
   "source": [
    "# Import the csv data into a dataframe and look at the first 10 rows\n",
    "\n",
    "import pandas as pd\n",
    "df = pd.read_csv('/Users/thomasmulhern/Downloads/Data-Analyst-Take-Home-Challenge-Dataset.csv', )\n",
    "df.loc[:10]"
   ]
  },
  {
   "cell_type": "markdown",
   "metadata": {},
   "source": [
    "# Exploratory Data Analysis"
   ]
  },
  {
   "cell_type": "code",
   "execution_count": 2,
   "metadata": {},
   "outputs": [
    {
     "name": "stdout",
     "output_type": "stream",
     "text": [
      "<class 'pandas.core.frame.DataFrame'>\n",
      "RangeIndex: 367202 entries, 0 to 367201\n",
      "Data columns (total 9 columns):\n",
      "Day                           367202 non-null object\n",
      "Campaign                      367202 non-null object\n",
      "Ad group                      367202 non-null object\n",
      "Ad group type                 367202 non-null object\n",
      "Ad group bid strategy type    367202 non-null object\n",
      "Cost                          367202 non-null float64\n",
      "Views                         367202 non-null float64\n",
      "Impr.                         367202 non-null float64\n",
      "Clicks                        367202 non-null float64\n",
      "dtypes: float64(4), object(5)\n",
      "memory usage: 25.2+ MB\n"
     ]
    }
   ],
   "source": [
    "# Dataframe length, number of columns, and number of non-null objects by column\n",
    "\n",
    "df.info()"
   ]
  },
  {
   "cell_type": "code",
   "execution_count": 3,
   "metadata": {},
   "outputs": [
    {
     "data": {
      "text/html": [
       "<div>\n",
       "<style scoped>\n",
       "    .dataframe tbody tr th:only-of-type {\n",
       "        vertical-align: middle;\n",
       "    }\n",
       "\n",
       "    .dataframe tbody tr th {\n",
       "        vertical-align: top;\n",
       "    }\n",
       "\n",
       "    .dataframe thead th {\n",
       "        text-align: right;\n",
       "    }\n",
       "</style>\n",
       "<table border=\"1\" class=\"dataframe\">\n",
       "  <thead>\n",
       "    <tr style=\"text-align: right;\">\n",
       "      <th></th>\n",
       "      <th>Cost</th>\n",
       "      <th>Views</th>\n",
       "      <th>Impr.</th>\n",
       "      <th>Clicks</th>\n",
       "    </tr>\n",
       "  </thead>\n",
       "  <tbody>\n",
       "    <tr>\n",
       "      <td>count</td>\n",
       "      <td>367202.000000</td>\n",
       "      <td>367202.000000</td>\n",
       "      <td>3.672020e+05</td>\n",
       "      <td>367202.000000</td>\n",
       "    </tr>\n",
       "    <tr>\n",
       "      <td>mean</td>\n",
       "      <td>66.102492</td>\n",
       "      <td>2290.415213</td>\n",
       "      <td>9.095366e+03</td>\n",
       "      <td>3.682488</td>\n",
       "    </tr>\n",
       "    <tr>\n",
       "      <td>std</td>\n",
       "      <td>332.227685</td>\n",
       "      <td>12321.875154</td>\n",
       "      <td>4.721700e+04</td>\n",
       "      <td>23.552545</td>\n",
       "    </tr>\n",
       "    <tr>\n",
       "      <td>min</td>\n",
       "      <td>0.000000</td>\n",
       "      <td>0.000000</td>\n",
       "      <td>0.000000e+00</td>\n",
       "      <td>0.000000</td>\n",
       "    </tr>\n",
       "    <tr>\n",
       "      <td>25%</td>\n",
       "      <td>0.340000</td>\n",
       "      <td>0.000000</td>\n",
       "      <td>4.200000e+01</td>\n",
       "      <td>0.000000</td>\n",
       "    </tr>\n",
       "    <tr>\n",
       "      <td>50%</td>\n",
       "      <td>4.020000</td>\n",
       "      <td>28.000000</td>\n",
       "      <td>5.130000e+02</td>\n",
       "      <td>0.000000</td>\n",
       "    </tr>\n",
       "    <tr>\n",
       "      <td>75%</td>\n",
       "      <td>26.800000</td>\n",
       "      <td>625.000000</td>\n",
       "      <td>3.511750e+03</td>\n",
       "      <td>1.000000</td>\n",
       "    </tr>\n",
       "    <tr>\n",
       "      <td>max</td>\n",
       "      <td>28115.190000</td>\n",
       "      <td>738040.000000</td>\n",
       "      <td>3.246620e+06</td>\n",
       "      <td>2809.000000</td>\n",
       "    </tr>\n",
       "  </tbody>\n",
       "</table>\n",
       "</div>"
      ],
      "text/plain": [
       "                Cost          Views         Impr.         Clicks\n",
       "count  367202.000000  367202.000000  3.672020e+05  367202.000000\n",
       "mean       66.102492    2290.415213  9.095366e+03       3.682488\n",
       "std       332.227685   12321.875154  4.721700e+04      23.552545\n",
       "min         0.000000       0.000000  0.000000e+00       0.000000\n",
       "25%         0.340000       0.000000  4.200000e+01       0.000000\n",
       "50%         4.020000      28.000000  5.130000e+02       0.000000\n",
       "75%        26.800000     625.000000  3.511750e+03       1.000000\n",
       "max     28115.190000  738040.000000  3.246620e+06    2809.000000"
      ]
     },
     "execution_count": 3,
     "metadata": {},
     "output_type": "execute_result"
    }
   ],
   "source": [
    "# Summary statistics by column\n",
    "\n",
    "df.describe()"
   ]
  },
  {
   "cell_type": "code",
   "execution_count": 4,
   "metadata": {},
   "outputs": [
    {
     "name": "stdout",
     "output_type": "stream",
     "text": [
      "unique_campaigns: 2020\n",
      "# unique ad groups: 762\n",
      "# unique ad group_types: 4\n",
      "# unique ad group bid strat type: 2\n"
     ]
    }
   ],
   "source": [
    "# Count uniques\n",
    "\n",
    "count_unique_campaigns = len(df.Campaign.unique())\n",
    "count_unique_ad_groups = len(df['Ad group'].unique())\n",
    "count_unique_ad_group_types = len(df['Ad group type'].unique())\n",
    "count_unique_ad_group_bid_strat_type = len(df['Ad group bid strategy type'].unique())\n",
    "\n",
    "print(f'''unique_campaigns: {count_unique_campaigns}\n",
    "# unique ad groups: {count_unique_ad_groups}\n",
    "# unique ad group_types: {count_unique_ad_group_types}\n",
    "# unique ad group bid strat type: {count_unique_ad_group_bid_strat_type}''' )"
   ]
  },
  {
   "cell_type": "code",
   "execution_count": 5,
   "metadata": {},
   "outputs": [
    {
     "data": {
      "text/plain": [
       "{'In-stream': 245874,\n",
       " 'Non-skippable': 57812,\n",
       " 'Bumper': 48860,\n",
       " 'In-feed video': 14656}"
      ]
     },
     "execution_count": 5,
     "metadata": {},
     "output_type": "execute_result"
    }
   ],
   "source": [
    "# Counts for each ad group type\n",
    "\n",
    "dict(df['Ad group type'].value_counts())"
   ]
  },
  {
   "cell_type": "code",
   "execution_count": 6,
   "metadata": {},
   "outputs": [
    {
     "data": {
      "text/plain": [
       "str"
      ]
     },
     "execution_count": 6,
     "metadata": {},
     "output_type": "execute_result"
    }
   ],
   "source": [
    "# Checkin data type for the Day column\n",
    "\n",
    "type(df['Day'][0])\n",
    "\n",
    "# Need to convert Day column from strings to a date format"
   ]
  },
  {
   "cell_type": "markdown",
   "metadata": {},
   "source": [
    "# Question 1\n",
    "Question 1\n",
    "Using the table logic below, create a new field labeled, “product_type”. Using this field, sum up the count for each field in this column. Your submission for this question will include 1) The python code you used to create the new column and obtain the count. 2) The returned result. \n"
   ]
  },
  {
   "cell_type": "code",
   "execution_count": 7,
   "metadata": {},
   "outputs": [
    {
     "data": {
      "text/plain": [
       "<matplotlib.image.AxesImage at 0x7febe1e94550>"
      ]
     },
     "execution_count": 7,
     "metadata": {},
     "output_type": "execute_result"
    },
    {
     "data": {
      "image/png": "[encoded data removed]",
      "text/plain": [
       "<Figure size 800x480 with 1 Axes>"
      ]
     },
     "metadata": {
      "needs_background": "light"
     },
     "output_type": "display_data"
    }
   ],
   "source": [
    "# Import the table image\n",
    "\n",
    "%matplotlib inline\n",
    "\n",
    "from matplotlib.pyplot import imshow\n",
    "import matplotlib.pyplot as plt\n",
    "import matplotlib.image as mpimg\n",
    "from matplotlib.pyplot import figure\n",
    "\n",
    "figure(figsize=(10, 6), dpi=80)\n",
    "img = mpimg.imread('/Users/thomasmulhern/Desktop/ScreenShot2022-08-12at6.54.07PM.png')\n",
    "plt.imshow(img)"
   ]
  },
  {
   "cell_type": "code",
   "execution_count": 8,
   "metadata": {},
   "outputs": [
    {
     "data": {
      "text/html": [
       "<div>\n",
       "<style scoped>\n",
       "    .dataframe tbody tr th:only-of-type {\n",
       "        vertical-align: middle;\n",
       "    }\n",
       "\n",
       "    .dataframe tbody tr th {\n",
       "        vertical-align: top;\n",
       "    }\n",
       "\n",
       "    .dataframe thead th {\n",
       "        text-align: right;\n",
       "    }\n",
       "</style>\n",
       "<table border=\"1\" class=\"dataframe\">\n",
       "  <thead>\n",
       "    <tr style=\"text-align: right;\">\n",
       "      <th></th>\n",
       "      <th></th>\n",
       "      <th>Product Type</th>\n",
       "    </tr>\n",
       "    <tr>\n",
       "      <th>Ad group type</th>\n",
       "      <th>Ad group bid strategy type</th>\n",
       "      <th></th>\n",
       "    </tr>\n",
       "  </thead>\n",
       "  <tbody>\n",
       "    <tr>\n",
       "      <td>Bumper</td>\n",
       "      <td>Target CPM</td>\n",
       "      <td>48860</td>\n",
       "    </tr>\n",
       "    <tr>\n",
       "      <td>In-feed video</td>\n",
       "      <td>Manual CPV</td>\n",
       "      <td>14656</td>\n",
       "    </tr>\n",
       "    <tr>\n",
       "      <td rowspan=\"2\" valign=\"top\">In-stream</td>\n",
       "      <td>Manual CPV</td>\n",
       "      <td>229743</td>\n",
       "    </tr>\n",
       "    <tr>\n",
       "      <td>Target CPM</td>\n",
       "      <td>16131</td>\n",
       "    </tr>\n",
       "    <tr>\n",
       "      <td>Non-skippable</td>\n",
       "      <td>Target CPM</td>\n",
       "      <td>57812</td>\n",
       "    </tr>\n",
       "  </tbody>\n",
       "</table>\n",
       "</div>"
      ],
      "text/plain": [
       "                                          Product Type\n",
       "Ad group type Ad group bid strategy type              \n",
       "Bumper        Target CPM                         48860\n",
       "In-feed video Manual CPV                         14656\n",
       "In-stream     Manual CPV                        229743\n",
       "              Target CPM                         16131\n",
       "Non-skippable Target CPM                         57812"
      ]
     },
     "execution_count": 8,
     "metadata": {},
     "output_type": "execute_result"
    }
   ],
   "source": [
    "# First Way \n",
    "\n",
    "df.groupby(['Ad group type','Ad group bid strategy type']).size().to_frame('Product Type')"
   ]
  },
  {
   "cell_type": "code",
   "execution_count": 9,
   "metadata": {},
   "outputs": [
    {
     "name": "stdout",
     "output_type": "stream",
     "text": [
      "TrueView: 229743, \n",
      "TrueView For Reach: 16131, \n",
      "Non-Skippable: 57812, \n",
      "Bumper: 48860, \n",
      "Video Discovery: 14656\n"
     ]
    }
   ],
   "source": [
    "# A second way\n",
    "\n",
    "bumper = len(df.where(df['Ad group type']=='Bumper').where(df['Ad group bid strategy type']=='Target CPM').dropna())\n",
    "video_discovery = len(df.where(df['Ad group type']=='In-feed video').where(df['Ad group bid strategy type']=='Manual CPV').dropna())\n",
    "trueView = len(df.where(df['Ad group type']=='In-stream').where(df['Ad group bid strategy type']=='Manual CPV').dropna())\n",
    "trueView_for_reach = len(df.where(df['Ad group type']=='In-stream').where(df['Ad group bid strategy type']=='Target CPM').dropna())\n",
    "non_skippable = len(df.where(df['Ad group type']=='Non-skippable').where(df['Ad group bid strategy type']=='Target CPM').dropna())\n",
    "\n",
    "print(f'''TrueView: {trueView}, \n",
    "TrueView For Reach: {trueView_for_reach}, \n",
    "Non-Skippable: {non_skippable}, \n",
    "Bumper: {bumper}, \n",
    "Video Discovery: {video_discovery}''')"
   ]
  },
  {
   "cell_type": "code",
   "execution_count": 10,
   "metadata": {},
   "outputs": [
    {
     "data": {
      "text/plain": [
       "0    229743\n",
       "1     16131\n",
       "2     57812\n",
       "3     48860\n",
       "4     14656\n",
       "dtype: int64"
      ]
     },
     "execution_count": 10,
     "metadata": {},
     "output_type": "execute_result"
    }
   ],
   "source": [
    "# Here is the data in a pandas Series (column)\n",
    "\n",
    "product_type = pd.Series([trueView, trueView_for_reach, non_skippable, bumper, video_discovery])\n",
    "product_type"
   ]
  },
  {
   "cell_type": "markdown",
   "metadata": {},
   "source": [
    "# Question 2\n",
    "For TrueView products in Q1 (Jan 1 - March 31), what day and campaign had the most views.\n",
    "\n",
    "Provide the campaign, day, and view count. Your submission for this question will include 1) The python code you used to obtain your solution. 2) The returned result."
   ]
  },
  {
   "cell_type": "code",
   "execution_count": 11,
   "metadata": {},
   "outputs": [],
   "source": [
    "# Nrw variables pointing to df so we can test different methods for foverting to datetime\n",
    "\n",
    "df2 = df\n",
    "df3 = df"
   ]
  },
  {
   "cell_type": "code",
   "execution_count": 12,
   "metadata": {},
   "outputs": [],
   "source": [
    "# More common but slower way to convert strings to datetimes using Pandas apply\n",
    "df2['Day'] = df['Day'].apply(lambda x: pd.to_datetime(x))\n",
    "\n",
    "# Faster method using numpy vectorization (~1369x faster)\n",
    "import numpy as np\n",
    "df3['Day'] = df3['Day'].values.astype(np.datetime64)"
   ]
  },
  {
   "cell_type": "code",
   "execution_count": 13,
   "metadata": {},
   "outputs": [
    {
     "name": "stdout",
     "output_type": "stream",
     "text": [
      "2.18 s ± 126 ms per loop (mean ± std. dev. of 7 runs, 1 loop each)\n",
      "1.96 ms ± 113 µs per loop (mean ± std. dev. of 7 runs, 1000 loops each)\n"
     ]
    }
   ],
   "source": [
    "# Testing the speed of each\n",
    "\n",
    "%timeit df2['Day'] = df['Day'].apply(lambda x: pd.to_datetime(x))\n",
    "%timeit df3['Day'] = df3['Day'].values.astype(np.datetime64)"
   ]
  },
  {
   "cell_type": "code",
   "execution_count": 14,
   "metadata": {},
   "outputs": [
    {
     "data": {
      "text/html": [
       "<div>\n",
       "<style scoped>\n",
       "    .dataframe tbody tr th:only-of-type {\n",
       "        vertical-align: middle;\n",
       "    }\n",
       "\n",
       "    .dataframe tbody tr th {\n",
       "        vertical-align: top;\n",
       "    }\n",
       "\n",
       "    .dataframe thead th {\n",
       "        text-align: right;\n",
       "    }\n",
       "</style>\n",
       "<table border=\"1\" class=\"dataframe\">\n",
       "  <thead>\n",
       "    <tr style=\"text-align: right;\">\n",
       "      <th></th>\n",
       "      <th>Day</th>\n",
       "      <th>Campaign</th>\n",
       "      <th>Ad group</th>\n",
       "      <th>Ad group type</th>\n",
       "      <th>Ad group bid strategy type</th>\n",
       "      <th>Cost</th>\n",
       "      <th>Views</th>\n",
       "      <th>Impr.</th>\n",
       "      <th>Clicks</th>\n",
       "    </tr>\n",
       "  </thead>\n",
       "  <tbody>\n",
       "    <tr>\n",
       "      <td>35</td>\n",
       "      <td>2022-03-01</td>\n",
       "      <td>AV_Bonus Impressions_Q4'21-Q2'22 PL036669_ Non...</td>\n",
       "      <td>CAA</td>\n",
       "      <td>Non-skippable</td>\n",
       "      <td>Target CPM</td>\n",
       "      <td>0.82</td>\n",
       "      <td>0.0</td>\n",
       "      <td>111.0</td>\n",
       "      <td>0.0</td>\n",
       "    </tr>\n",
       "    <tr>\n",
       "      <td>38</td>\n",
       "      <td>2022-02-15</td>\n",
       "      <td>YT_Bumpers_Q1'22 PL024621</td>\n",
       "      <td>CIA</td>\n",
       "      <td>Bumper</td>\n",
       "      <td>Target CPM</td>\n",
       "      <td>19.53</td>\n",
       "      <td>0.0</td>\n",
       "      <td>3433.0</td>\n",
       "      <td>2.0</td>\n",
       "    </tr>\n",
       "    <tr>\n",
       "      <td>39</td>\n",
       "      <td>2022-03-28</td>\n",
       "      <td>AV_Bonus Impressions_Q4'21-Q2'22 PL036669_TV4R</td>\n",
       "      <td>kw - coffee consumers</td>\n",
       "      <td>In-stream</td>\n",
       "      <td>Target CPM</td>\n",
       "      <td>0.07</td>\n",
       "      <td>0.0</td>\n",
       "      <td>9.0</td>\n",
       "      <td>0.0</td>\n",
       "    </tr>\n",
       "    <tr>\n",
       "      <td>41</td>\n",
       "      <td>2022-02-15</td>\n",
       "      <td>CF After Dark - TrueView In-Stream - Conscious...</td>\n",
       "      <td>Remarketing</td>\n",
       "      <td>In-stream</td>\n",
       "      <td>Manual CPV</td>\n",
       "      <td>166.64</td>\n",
       "      <td>7057.0</td>\n",
       "      <td>17034.0</td>\n",
       "      <td>74.0</td>\n",
       "    </tr>\n",
       "    <tr>\n",
       "      <td>42</td>\n",
       "      <td>2022-01-13</td>\n",
       "      <td>YT_Non-Skip15_Q1'22 PL024616</td>\n",
       "      <td>LE</td>\n",
       "      <td>Non-skippable</td>\n",
       "      <td>Target CPM</td>\n",
       "      <td>4.39</td>\n",
       "      <td>0.0</td>\n",
       "      <td>489.0</td>\n",
       "      <td>1.0</td>\n",
       "    </tr>\n",
       "  </tbody>\n",
       "</table>\n",
       "</div>"
      ],
      "text/plain": [
       "          Day                                           Campaign  \\\n",
       "35 2022-03-01  AV_Bonus Impressions_Q4'21-Q2'22 PL036669_ Non...   \n",
       "38 2022-02-15                          YT_Bumpers_Q1'22 PL024621   \n",
       "39 2022-03-28     AV_Bonus Impressions_Q4'21-Q2'22 PL036669_TV4R   \n",
       "41 2022-02-15  CF After Dark - TrueView In-Stream - Conscious...   \n",
       "42 2022-01-13                       YT_Non-Skip15_Q1'22 PL024616   \n",
       "\n",
       "                 Ad group  Ad group type Ad group bid strategy type    Cost  \\\n",
       "35                    CAA  Non-skippable                 Target CPM    0.82   \n",
       "38                    CIA         Bumper                 Target CPM   19.53   \n",
       "39  kw - coffee consumers      In-stream                 Target CPM    0.07   \n",
       "41            Remarketing      In-stream                 Manual CPV  166.64   \n",
       "42                     LE  Non-skippable                 Target CPM    4.39   \n",
       "\n",
       "     Views    Impr.  Clicks  \n",
       "35     0.0    111.0     0.0  \n",
       "38     0.0   3433.0     2.0  \n",
       "39     0.0      9.0     0.0  \n",
       "41  7057.0  17034.0    74.0  \n",
       "42     0.0    489.0     1.0  "
      ]
     },
     "execution_count": 14,
     "metadata": {},
     "output_type": "execute_result"
    }
   ],
   "source": [
    "# Get all the rows in Jan - Mar\n",
    "dfq1 = df3[(df3['Day'].dt.month == 1) | (df3['Day'].dt.month == 2) | (df3['Day'].dt.month == 3)]\n",
    "dfq1.head()"
   ]
  },
  {
   "cell_type": "code",
   "execution_count": 15,
   "metadata": {},
   "outputs": [],
   "source": [
    "dfq1_tv = dfq1.where(df['Ad group type']=='In-stream').where(df['Ad group bid strategy type']=='Manual CPV').dropna()\n"
   ]
  },
  {
   "cell_type": "code",
   "execution_count": 16,
   "metadata": {},
   "outputs": [
    {
     "data": {
      "text/html": [
       "<div>\n",
       "<style scoped>\n",
       "    .dataframe tbody tr th:only-of-type {\n",
       "        vertical-align: middle;\n",
       "    }\n",
       "\n",
       "    .dataframe tbody tr th {\n",
       "        vertical-align: top;\n",
       "    }\n",
       "\n",
       "    .dataframe thead th {\n",
       "        text-align: right;\n",
       "    }\n",
       "</style>\n",
       "<table border=\"1\" class=\"dataframe\">\n",
       "  <thead>\n",
       "    <tr style=\"text-align: right;\">\n",
       "      <th></th>\n",
       "      <th>Day</th>\n",
       "      <th>Campaign</th>\n",
       "      <th>Ad group</th>\n",
       "      <th>Ad group type</th>\n",
       "      <th>Ad group bid strategy type</th>\n",
       "      <th>Cost</th>\n",
       "      <th>Views</th>\n",
       "      <th>Impr.</th>\n",
       "      <th>Clicks</th>\n",
       "    </tr>\n",
       "  </thead>\n",
       "  <tbody>\n",
       "    <tr>\n",
       "      <td>41</td>\n",
       "      <td>2022-02-15</td>\n",
       "      <td>CF After Dark - TrueView In-Stream - Conscious...</td>\n",
       "      <td>Remarketing</td>\n",
       "      <td>In-stream</td>\n",
       "      <td>Manual CPV</td>\n",
       "      <td>166.64</td>\n",
       "      <td>7057.0</td>\n",
       "      <td>17034.0</td>\n",
       "      <td>74.0</td>\n",
       "    </tr>\n",
       "    <tr>\n",
       "      <td>44</td>\n",
       "      <td>2022-03-27</td>\n",
       "      <td>YT TrV USA PL042588 V0uyefVpwuw</td>\n",
       "      <td>Affinities</td>\n",
       "      <td>In-stream</td>\n",
       "      <td>Manual CPV</td>\n",
       "      <td>7.57</td>\n",
       "      <td>47.0</td>\n",
       "      <td>60.0</td>\n",
       "      <td>0.0</td>\n",
       "    </tr>\n",
       "    <tr>\n",
       "      <td>105</td>\n",
       "      <td>2022-03-30</td>\n",
       "      <td>CF After Dark - TrueView - Conscious Conversat...</td>\n",
       "      <td>DD&amp;LE</td>\n",
       "      <td>In-stream</td>\n",
       "      <td>Manual CPV</td>\n",
       "      <td>34.57</td>\n",
       "      <td>1674.0</td>\n",
       "      <td>2719.0</td>\n",
       "      <td>8.0</td>\n",
       "    </tr>\n",
       "    <tr>\n",
       "      <td>115</td>\n",
       "      <td>2022-03-28</td>\n",
       "      <td>YT TrV USA PL042588 V0uyefVpwuw</td>\n",
       "      <td>Affinities</td>\n",
       "      <td>In-stream</td>\n",
       "      <td>Manual CPV</td>\n",
       "      <td>0.27</td>\n",
       "      <td>2.0</td>\n",
       "      <td>2.0</td>\n",
       "      <td>0.0</td>\n",
       "    </tr>\n",
       "    <tr>\n",
       "      <td>190</td>\n",
       "      <td>2022-03-27</td>\n",
       "      <td>YT TrV USA PL042588 MHogPnUWjMM</td>\n",
       "      <td>CAA</td>\n",
       "      <td>In-stream</td>\n",
       "      <td>Manual CPV</td>\n",
       "      <td>0.10</td>\n",
       "      <td>1.0</td>\n",
       "      <td>1.0</td>\n",
       "      <td>0.0</td>\n",
       "    </tr>\n",
       "    <tr>\n",
       "      <td>...</td>\n",
       "      <td>...</td>\n",
       "      <td>...</td>\n",
       "      <td>...</td>\n",
       "      <td>...</td>\n",
       "      <td>...</td>\n",
       "      <td>...</td>\n",
       "      <td>...</td>\n",
       "      <td>...</td>\n",
       "      <td>...</td>\n",
       "    </tr>\n",
       "    <tr>\n",
       "      <td>367171</td>\n",
       "      <td>2022-03-16</td>\n",
       "      <td>YT_TrV_CV_AA PL036571 - English - CTV</td>\n",
       "      <td>AA Conscious Positive</td>\n",
       "      <td>In-stream</td>\n",
       "      <td>Manual CPV</td>\n",
       "      <td>1.04</td>\n",
       "      <td>50.0</td>\n",
       "      <td>102.0</td>\n",
       "      <td>0.0</td>\n",
       "    </tr>\n",
       "    <tr>\n",
       "      <td>367175</td>\n",
       "      <td>2022-03-23</td>\n",
       "      <td>YT_TrV_Chicago PL039969 - ENG</td>\n",
       "      <td>Video Lineups - MC</td>\n",
       "      <td>In-stream</td>\n",
       "      <td>Manual CPV</td>\n",
       "      <td>0.29</td>\n",
       "      <td>22.0</td>\n",
       "      <td>37.0</td>\n",
       "      <td>0.0</td>\n",
       "    </tr>\n",
       "    <tr>\n",
       "      <td>367181</td>\n",
       "      <td>2022-03-02</td>\n",
       "      <td>YT_TrV_SF PL039984 - SPA</td>\n",
       "      <td>KW</td>\n",
       "      <td>In-stream</td>\n",
       "      <td>Manual CPV</td>\n",
       "      <td>22.15</td>\n",
       "      <td>1613.0</td>\n",
       "      <td>2237.0</td>\n",
       "      <td>4.0</td>\n",
       "    </tr>\n",
       "    <tr>\n",
       "      <td>367185</td>\n",
       "      <td>2022-03-17</td>\n",
       "      <td>YT_TrV_Denver PL039976 - ENG</td>\n",
       "      <td>Video Lineups - MC</td>\n",
       "      <td>In-stream</td>\n",
       "      <td>Manual CPV</td>\n",
       "      <td>0.27</td>\n",
       "      <td>18.0</td>\n",
       "      <td>27.0</td>\n",
       "      <td>0.0</td>\n",
       "    </tr>\n",
       "    <tr>\n",
       "      <td>367192</td>\n",
       "      <td>2022-03-31</td>\n",
       "      <td>YT_TrV_Chicago PL039969 - SPA</td>\n",
       "      <td>DD/LE - Parents</td>\n",
       "      <td>In-stream</td>\n",
       "      <td>Manual CPV</td>\n",
       "      <td>6.87</td>\n",
       "      <td>499.0</td>\n",
       "      <td>696.0</td>\n",
       "      <td>1.0</td>\n",
       "    </tr>\n",
       "  </tbody>\n",
       "</table>\n",
       "<p>92165 rows × 9 columns</p>\n",
       "</div>"
      ],
      "text/plain": [
       "              Day                                           Campaign  \\\n",
       "41     2022-02-15  CF After Dark - TrueView In-Stream - Conscious...   \n",
       "44     2022-03-27                    YT TrV USA PL042588 V0uyefVpwuw   \n",
       "105    2022-03-30  CF After Dark - TrueView - Conscious Conversat...   \n",
       "115    2022-03-28                    YT TrV USA PL042588 V0uyefVpwuw   \n",
       "190    2022-03-27                    YT TrV USA PL042588 MHogPnUWjMM   \n",
       "...           ...                                                ...   \n",
       "367171 2022-03-16              YT_TrV_CV_AA PL036571 - English - CTV   \n",
       "367175 2022-03-23                      YT_TrV_Chicago PL039969 - ENG   \n",
       "367181 2022-03-02                           YT_TrV_SF PL039984 - SPA   \n",
       "367185 2022-03-17                       YT_TrV_Denver PL039976 - ENG   \n",
       "367192 2022-03-31                      YT_TrV_Chicago PL039969 - SPA   \n",
       "\n",
       "                     Ad group Ad group type Ad group bid strategy type  \\\n",
       "41                Remarketing     In-stream                 Manual CPV   \n",
       "44                 Affinities     In-stream                 Manual CPV   \n",
       "105                     DD&LE     In-stream                 Manual CPV   \n",
       "115                Affinities     In-stream                 Manual CPV   \n",
       "190                       CAA     In-stream                 Manual CPV   \n",
       "...                       ...           ...                        ...   \n",
       "367171  AA Conscious Positive     In-stream                 Manual CPV   \n",
       "367175     Video Lineups - MC     In-stream                 Manual CPV   \n",
       "367181                     KW     In-stream                 Manual CPV   \n",
       "367185     Video Lineups - MC     In-stream                 Manual CPV   \n",
       "367192        DD/LE - Parents     In-stream                 Manual CPV   \n",
       "\n",
       "          Cost   Views    Impr.  Clicks  \n",
       "41      166.64  7057.0  17034.0    74.0  \n",
       "44        7.57    47.0     60.0     0.0  \n",
       "105      34.57  1674.0   2719.0     8.0  \n",
       "115       0.27     2.0      2.0     0.0  \n",
       "190       0.10     1.0      1.0     0.0  \n",
       "...        ...     ...      ...     ...  \n",
       "367171    1.04    50.0    102.0     0.0  \n",
       "367175    0.29    22.0     37.0     0.0  \n",
       "367181   22.15  1613.0   2237.0     4.0  \n",
       "367185    0.27    18.0     27.0     0.0  \n",
       "367192    6.87   499.0    696.0     1.0  \n",
       "\n",
       "[92165 rows x 9 columns]"
      ]
     },
     "execution_count": 16,
     "metadata": {},
     "output_type": "execute_result"
    }
   ],
   "source": [
    "dfq1_tv"
   ]
  },
  {
   "cell_type": "code",
   "execution_count": 17,
   "metadata": {},
   "outputs": [
    {
     "name": "stdout",
     "output_type": "stream",
     "text": [
      "For TrueView products in Q1 (Jan 1 - March 31) the date: \n",
      "\n",
      "2022-2-4 \n",
      "\n",
      "and the campaign: \n",
      "\n",
      "YT_TrV_US_Q1'22 FEB PL034029 - Feeling It All  - TAB/CTV \n",
      "\n",
      "had the most views.\n"
     ]
    }
   ],
   "source": [
    "from datetime import datetime\n",
    "pc = dfq1_tv[dfq1_tv['Views'] == dfq1_tv['Views'].max()]['Campaign'].iloc[0]\n",
    "pd = dfq1_tv[dfq1_tv['Views'] == dfq1_tv['Views'].max()]['Day'].iloc[0]\n",
    "\n",
    "print(f\"\"\"For TrueView products in Q1 (Jan 1 - March 31) the date: \n",
    "\n",
    "{pd.year}-{pd.month}-{pd.day} \n",
    "\n",
    "and the campaign: \n",
    "\n",
    "{pc} \n",
    "\n",
    "had the most views.\"\"\")"
   ]
  },
  {
   "cell_type": "markdown",
   "metadata": {},
   "source": [
    "# Question 3\n",
    "Create two new columns, 'cpv' & 'cpm'. Fill the columns using the below formulas. Calculate and provide the averages for the new columns, 'cpv' and 'cpm' for each product type.\n",
    "\n",
    "cpv = 'Cost'/'Views'\n",
    "\n",
    "cpv = ('Cost'/'Impr.') * 1000\n",
    "\n",
    " \n",
    "\n",
    "If  'Ad group bid strategy type'  =  'Manual CPV'  -> cpv formula\n",
    "\n",
    "If  'Ad group bid strategy type'  =  'Target CPM'  -> cpm formula\n",
    "\n"
   ]
  },
  {
   "cell_type": "code",
   "execution_count": 18,
   "metadata": {},
   "outputs": [],
   "source": [
    "# Create CPV column\n",
    "\n",
    "df3['cpv'] = df3.apply(lambda row: np.nan if row.Views == 0 else row.Cost / row.Views, axis=1)"
   ]
  },
  {
   "cell_type": "code",
   "execution_count": 19,
   "metadata": {},
   "outputs": [],
   "source": [
    "# Create CPM column\n",
    "\n",
    "df3['cpm'] = df3.apply(lambda row: np.nan if row['Impr.'] == 0 else (row.Cost / row['Impr.'])*1000, axis=1)"
   ]
  },
  {
   "cell_type": "code",
   "execution_count": 20,
   "metadata": {},
   "outputs": [],
   "source": [
    "\n",
    "# Calculate averages\n",
    "\n",
    "bumper1 = np.mean(df3.where(df3['Ad group type']=='Bumper').where(df3['Ad group bid strategy type']=='Target CPM'))\n",
    "video_discovery1 = np.mean(df3.where(df['Ad group type']=='In-feed video').where(df3['Ad group bid strategy type']=='Manual CPV'))\n",
    "trueView1 = np.mean(df3.where(df3['Ad group type']=='In-stream').where(df3['Ad group bid strategy type']=='Manual CPV'))\n",
    "trueView_for_reach1 = np.mean(df3.where(df['Ad group type']=='In-stream').where(df3['Ad group bid strategy type']=='Target CPM'))\n",
    "non_skippable1 = np.mean(df3.where(df3['Ad group type']=='Non-skippable').where(df3['Ad group bid strategy type']=='Target CPM'))\n"
   ]
  },
  {
   "cell_type": "code",
   "execution_count": 21,
   "metadata": {},
   "outputs": [
    {
     "data": {
      "text/plain": [
       "0"
      ]
     },
     "execution_count": 21,
     "metadata": {},
     "output_type": "execute_result"
    }
   ],
   "source": [
    "# Explore/confirm Non-skippable cpv = 0\n",
    "\n",
    "len(df3['cpv'].where(df3['Ad group type']=='Non-skippable').where(df3['Ad group bid strategy type']=='Target CPM').dropna())"
   ]
  },
  {
   "cell_type": "code",
   "execution_count": 22,
   "metadata": {},
   "outputs": [
    {
     "name": "stdout",
     "output_type": "stream",
     "text": [
      "Bumper cpm: 5.166, Bumper cpv: 0\n",
      "Non-skippable cpm: 11.345, Non-skippable cpv:0\n",
      "Video Discovery cpm: 1.103, Video Discovery cpv: 0.071\n",
      "TrueView cpm:10.043, TrueView cpv: 0.017\n",
      "TrueView for Reach cpm:8.386, TrueView for Reach cpv: 0.057\n"
     ]
    }
   ],
   "source": [
    "# Output cpm and cpv for each product\n",
    "\n",
    "print(f\"\"\"Bumper cpm: {np.round(bumper1['cpm'], 3)}, Bumper cpv: {0}\n",
    "Non-skippable cpm: {np.round(non_skippable1['cpm'],3)}, Non-skippable cpv:{0}\n",
    "Video Discovery cpm: {np.round(video_discovery1['cpm'],3)}, Video Discovery cpv: {np.round(video_discovery1['cpv'],3)}\n",
    "TrueView cpm:{np.round(trueView1['cpm'],3)}, TrueView cpv: {np.round(trueView1['cpv'],3)}\n",
    "TrueView for Reach cpm:{np.round(trueView_for_reach1['cpm'],3)}, TrueView for Reach cpv: {np.round(trueView_for_reach1['cpv'],3)}\"\"\")"
   ]
  },
  {
   "cell_type": "markdown",
   "metadata": {},
   "source": [
    "# Question 4\n",
    "Based on this data set, we'd like to see what insights, or trends you are able to analyze. You are free to use whatever means necessary to complete this step, python is not required for this step. "
   ]
  },
  {
   "cell_type": "code",
   "execution_count": null,
   "metadata": {},
   "outputs": [],
   "source": []
  },
  {
   "cell_type": "markdown",
   "metadata": {},
   "source": [
    "## Next Steps:\n",
    "#### •Investigate and visualize cpc, cpi, and cpc seasonality\n",
    "#### •Create tables with the best and worst performing campaigns, ad groups, and ad group types by cpc, cpv, and cpi\n",
    "#### •Create Tableau dashboard to connect to db from which this data came for live results\n"
   ]
  },
  {
   "cell_type": "code",
   "execution_count": null,
   "metadata": {},
   "outputs": [],
   "source": []
  },
  {
   "cell_type": "code",
   "execution_count": null,
   "metadata": {},
   "outputs": [],
   "source": []
  },
  {
   "cell_type": "code",
   "execution_count": null,
   "metadata": {},
   "outputs": [],
   "source": []
  }
 ],
 "metadata": {
  "kernelspec": {
   "display_name": "Python 3",
   "language": "python",
   "name": "python3"
  },
  "language_info": {
   "codemirror_mode": {
    "name": "ipython",
    "version": 3
   },
   "file_extension": ".py",
   "mimetype": "text/x-python",
   "name": "python",
   "nbconvert_exporter": "python",
   "pygments_lexer": "ipython3",
   "version": "3.7.4"
  }
 },
 "nbformat": 4,
 "nbformat_minor": 2
}
